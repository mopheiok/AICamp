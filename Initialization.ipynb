{
  "nbformat": 4,
  "nbformat_minor": 0,
  "metadata": {
    "colab": {
      "name": "Initialization.ipynb",
      "version": "0.3.2",
      "provenance": [],
      "toc_visible": true
    },
    "kernelspec": {
      "name": "python3",
      "display_name": "Python 3"
    },
    "accelerator": "GPU"
  },
  "cells": [
    {
      "metadata": {
        "id": "zj_OGZdEwvs8",
        "colab_type": "text"
      },
      "cell_type": "markdown",
      "source": [
        "## Step 1: Authenticate google colab\n",
        "By running the code below you are authenticating use of googe collab with your google account."
      ]
    },
    {
      "metadata": {
        "id": "eQ9lYvTxHniL",
        "colab_type": "code",
        "outputId": "75a16ee4-9f83-4ab7-bdcf-117ccdfdf9ce",
        "colab": {
          "base_uri": "https://localhost:8080/",
          "height": 53
        }
      },
      "cell_type": "code",
      "source": [
        "## Code to install necessary libraries and perform authorization\n",
        "\n",
        "\"\"\"\n",
        "When you run this code, you will be asked to authenticate which can be done by \n",
        "clicking the click outputed and copy pasting the access code. Sometime you have to do this couple of time to gain access\n",
        "\n",
        "If you ran this code after successful authentication during your session,\n",
        "when asked for verification code without any link to browser, enter your google password\n",
        "\"\"\"\n",
        "\n",
        "!apt-get install -y -qq software-properties-common python-software-properties module-init-tools\n",
        "!add-apt-repository -y ppa:alessandro-strada/ppa 2>&1 > /dev/null\n",
        "!apt-get update -qq 2>&1 > /dev/null\n",
        "!apt-get -y install -qq google-drive-ocamlfuse fuse\n",
        "from google.colab import auth\n",
        "auth.authenticate_user()\n",
        "from oauth2client.client import GoogleCredentials\n",
        "creds = GoogleCredentials.get_application_default()\n",
        "import getpass\n",
        "!google-drive-ocamlfuse -headless -id={creds.client_id} -secret={creds.client_secret} < /dev/null 2>&1 | grep URL\n",
        "vcode = getpass.getpass()\n",
        "!echo {vcode} | google-drive-ocamlfuse -headless -id={creds.client_id} -secret={creds.client_secret}"
      ],
      "execution_count": 5,
      "outputs": [
        {
          "output_type": "stream",
          "text": [
            "E: Package 'python-software-properties' has no installation candidate\n",
            "··········\n"
          ],
          "name": "stdout"
        }
      ]
    },
    {
      "metadata": {
        "id": "ZhTuNmu1xJQF",
        "colab_type": "text"
      },
      "cell_type": "markdown",
      "source": [
        "## Step 2: Setting working directory"
      ]
    },
    {
      "metadata": {
        "id": "1qOXK1A5UgS_",
        "colab_type": "code",
        "colab": {}
      },
      "cell_type": "code",
      "source": [
        "## Mount google drive \n",
        "\n",
        "!mkdir -p drive \n",
        "!google-drive-ocamlfuse drive"
      ],
      "execution_count": 0,
      "outputs": []
    },
    {
      "metadata": {
        "id": "c5YHgRlcgVnq",
        "colab_type": "code",
        "colab": {}
      },
      "cell_type": "code",
      "source": [
        "## Create a folder called \"testing\"(any name you want )\n",
        "\n",
        "## Setting the working directory\n",
        "import os\n",
        "os.chdir(\"drive/testing\")"
      ],
      "execution_count": 0,
      "outputs": []
    },
    {
      "metadata": {
        "id": "5anfCidUxTGL",
        "colab_type": "text"
      },
      "cell_type": "markdown",
      "source": [
        "## Step 3: Cloning github repository on to your google drive"
      ]
    },
    {
      "metadata": {
        "id": "IlJkV4t-xSEM",
        "colab_type": "code",
        "colab": {}
      },
      "cell_type": "code",
      "source": [
        "\"\"\"\n",
        "Run this command. This will clone/download the necessary jupyter notebook files, data required to run Autoencoder session on ABIDE data set\n",
        "\"\"\"\n",
        "\n",
        "!git clone https://github.com/SOCR/ABIDE_ML/tree/master/ABIDE_Data_preprocessing"
      ],
      "execution_count": 0,
      "outputs": []
    },
    {
      "metadata": {
        "id": "UCAV9P6EOZ_F",
        "colab_type": "code",
        "outputId": "8311cd21-a2f3-4a54-90fe-8687999e9aed",
        "colab": {
          "base_uri": "https://localhost:8080/",
          "height": 53
        }
      },
      "cell_type": "code",
      "source": [
        "!pwd\n",
        "!ls"
      ],
      "execution_count": 7,
      "outputs": [
        {
          "output_type": "stream",
          "text": [
            "/content/gdrive\n",
            "'Colab Notebooks'   drive\n"
          ],
          "name": "stdout"
        }
      ]
    },
    {
      "metadata": {
        "id": "-Z6OhmAWPRvt",
        "colab_type": "code",
        "outputId": "f05dd419-fd36-4884-bd7d-42b2c0898be2",
        "colab": {
          "base_uri": "https://localhost:8080/",
          "height": 35
        }
      },
      "cell_type": "code",
      "source": [
        "# 切换目录\n",
        "%cd gdrive/Colab\\ Notebooks"
      ],
      "execution_count": 0,
      "outputs": [
        {
          "output_type": "stream",
          "text": [
            "/content/gdrive/Colab Notebooks\n"
          ],
          "name": "stdout"
        }
      ]
    }
  ]
}