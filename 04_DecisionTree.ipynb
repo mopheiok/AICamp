{
  "nbformat": 4,
  "nbformat_minor": 0,
  "metadata": {
    "colab": {
      "name": "04_DecisionTree.ipynb",
      "version": "0.3.2",
      "provenance": [],
      "collapsed_sections": [],
      "toc_visible": true,
      "include_colab_link": true
    },
    "kernelspec": {
      "name": "python3",
      "display_name": "Python 3"
    }
  },
  "cells": [
    {
      "cell_type": "markdown",
      "metadata": {
        "id": "view-in-github",
        "colab_type": "text"
      },
      "source": [
        "<a href=\"https://colab.research.google.com/github/mopheiok/WatermelonCamp/blob/master/04_DecisionTree.ipynb\" target=\"_parent\"><img src=\"https://colab.research.google.com/assets/colab-badge.svg\" alt=\"Open In Colab\"/></a>"
      ]
    },
    {
      "metadata": {
        "id": "20bYxF3KKpyr",
        "colab_type": "text"
      },
      "cell_type": "markdown",
      "source": [
        "## Setup——下载代码到当前位置"
      ]
    },
    {
      "metadata": {
        "id": "HGhYz-jDGcFG",
        "colab_type": "code",
        "outputId": "ca8320e2-5220-4332-a2f6-6f879b3a3162",
        "colab": {
          "base_uri": "https://localhost:8080/",
          "height": 136
        }
      },
      "cell_type": "code",
      "source": [
        "!git clone https://github.com/pbharrin/machinelearninginaction3x.git"
      ],
      "execution_count": 1,
      "outputs": [
        {
          "output_type": "stream",
          "text": [
            "Cloning into 'machinelearninginaction3x'...\n",
            "remote: Enumerating objects: 35, done.\u001b[K\n",
            "remote: Counting objects: 100% (35/35), done.\u001b[K\n",
            "remote: Compressing objects: 100% (32/32), done.\u001b[K\n",
            "remote: Total 293 (delta 16), reused 6 (delta 2), pack-reused 258\u001b[K\n",
            "Receiving objects: 100% (293/293), 15.93 MiB | 19.96 MiB/s, done.\n",
            "Resolving deltas: 100% (90/90), done.\n"
          ],
          "name": "stdout"
        }
      ]
    },
    {
      "metadata": {
        "id": "SU03aoW85cyv",
        "colab_type": "code",
        "colab": {}
      },
      "cell_type": "code",
      "source": [
        "from pprint import pprint"
      ],
      "execution_count": 0,
      "outputs": []
    },
    {
      "metadata": {
        "id": "tbzD2FnhGwOI",
        "colab_type": "text"
      },
      "cell_type": "markdown",
      "source": [
        "## 03_决策树"
      ]
    },
    {
      "metadata": {
        "id": "fmxG4zstGxFf",
        "colab_type": "code",
        "colab": {}
      },
      "cell_type": "code",
      "source": [
        "## Setting the working directory\n",
        "import os\n",
        "os.chdir(\"machinelearninginaction3x/Ch03\")"
      ],
      "execution_count": 0,
      "outputs": []
    },
    {
      "metadata": {
        "id": "tGJfAfkCVC3n",
        "colab_type": "text"
      },
      "cell_type": "markdown",
      "source": [
        "[西瓜书中ID3决策树的实现](https://blog.csdn.net/leafage_m/article/details/79629074)\n",
        "\n",
        "[西瓜数据集](https://blog.csdn.net/leafage_m/article/details/79560791)2.0"
      ]
    },
    {
      "metadata": {
        "id": "XzHYIyeKQWcC",
        "colab_type": "code",
        "colab": {}
      },
      "cell_type": "code",
      "source": [
        "def createDataSet():\n",
        "    \"\"\"\n",
        "    创建测试的数据集\n",
        "    :return:\n",
        "    \"\"\"\n",
        "    dataSet = [\n",
        "        # 1\n",
        "        ['青绿', '蜷缩', '浊响', '清晰', '凹陷', '硬滑', '好瓜'],\n",
        "        # 2\n",
        "        ['乌黑', '蜷缩', '沉闷', '清晰', '凹陷', '硬滑', '好瓜'],\n",
        "        # 3\n",
        "        ['乌黑', '蜷缩', '浊响', '清晰', '凹陷', '硬滑', '好瓜'],\n",
        "        # 4\n",
        "        ['青绿', '蜷缩', '沉闷', '清晰', '凹陷', '硬滑', '好瓜'],\n",
        "        # 5\n",
        "        ['浅白', '蜷缩', '浊响', '清晰', '凹陷', '硬滑', '好瓜'],\n",
        "        # 6\n",
        "        ['青绿', '稍蜷', '浊响', '清晰', '稍凹', '软粘', '好瓜'],\n",
        "        # 7\n",
        "        ['乌黑', '稍蜷', '浊响', '稍糊', '稍凹', '软粘', '好瓜'],\n",
        "        # 8\n",
        "        ['乌黑', '稍蜷', '浊响', '清晰', '稍凹', '硬滑', '好瓜'],\n",
        "\n",
        "        # ----------------------------------------------------\n",
        "        # 9\n",
        "        ['乌黑', '稍蜷', '沉闷', '稍糊', '稍凹', '硬滑', '坏瓜'],\n",
        "        # 10\n",
        "        ['青绿', '硬挺', '清脆', '清晰', '平坦', '软粘', '坏瓜'],\n",
        "        # 11\n",
        "        ['浅白', '硬挺', '清脆', '模糊', '平坦', '硬滑', '坏瓜'],\n",
        "        # 12\n",
        "        ['浅白', '蜷缩', '浊响', '模糊', '平坦', '软粘', '坏瓜'],\n",
        "        # 13\n",
        "        ['青绿', '稍蜷', '浊响', '稍糊', '凹陷', '硬滑', '坏瓜'],\n",
        "        # 14\n",
        "        ['浅白', '稍蜷', '沉闷', '稍糊', '凹陷', '硬滑', '坏瓜'],\n",
        "        # 15\n",
        "        ['乌黑', '稍蜷', '浊响', '清晰', '稍凹', '软粘', '坏瓜'],\n",
        "        # 16\n",
        "        ['浅白', '蜷缩', '浊响', '模糊', '平坦', '硬滑', '坏瓜'],\n",
        "        # 17\n",
        "        ['青绿', '蜷缩', '沉闷', '稍糊', '稍凹', '硬滑', '坏瓜']\n",
        "    ]\n",
        "\n",
        "    # 特征值列表\n",
        "    labels = ['色泽', '根蒂', '敲击', '纹理', '脐部', '触感']\n",
        "\n",
        "    # 特征对应的所有可能的情况\n",
        "    labels_full = {}\n",
        "\n",
        "    for i in range(len(labels)):\n",
        "        labelList = [example[i] for example in dataSet]\n",
        "        uniqueLabel = set(labelList)\n",
        "        labels_full[labels[i]] = uniqueLabel\n",
        "\n",
        "    return dataSet, labels, labels_full"
      ],
      "execution_count": 0,
      "outputs": []
    },
    {
      "metadata": {
        "id": "4N5wKetTQAmZ",
        "colab_type": "code",
        "colab": {
          "base_uri": "https://localhost:8080/",
          "height": 306
        },
        "outputId": "239f3c27-4db9-4ba4-914f-0727973fca05"
      },
      "cell_type": "code",
      "source": [
        "dataSet, labels, labels_full = createDataSet()\n",
        "dataSet"
      ],
      "execution_count": 4,
      "outputs": [
        {
          "output_type": "execute_result",
          "data": {
            "text/plain": [
              "[['青绿', '蜷缩', '浊响', '清晰', '凹陷', '硬滑', '好瓜'],\n",
              " ['乌黑', '蜷缩', '沉闷', '清晰', '凹陷', '硬滑', '好瓜'],\n",
              " ['乌黑', '蜷缩', '浊响', '清晰', '凹陷', '硬滑', '好瓜'],\n",
              " ['青绿', '蜷缩', '沉闷', '清晰', '凹陷', '硬滑', '好瓜'],\n",
              " ['浅白', '蜷缩', '浊响', '清晰', '凹陷', '硬滑', '好瓜'],\n",
              " ['青绿', '稍蜷', '浊响', '清晰', '稍凹', '软粘', '好瓜'],\n",
              " ['乌黑', '稍蜷', '浊响', '稍糊', '稍凹', '软粘', '好瓜'],\n",
              " ['乌黑', '稍蜷', '浊响', '清晰', '稍凹', '硬滑', '好瓜'],\n",
              " ['乌黑', '稍蜷', '沉闷', '稍糊', '稍凹', '硬滑', '坏瓜'],\n",
              " ['青绿', '硬挺', '清脆', '清晰', '平坦', '软粘', '坏瓜'],\n",
              " ['浅白', '硬挺', '清脆', '模糊', '平坦', '硬滑', '坏瓜'],\n",
              " ['浅白', '蜷缩', '浊响', '模糊', '平坦', '软粘', '坏瓜'],\n",
              " ['青绿', '稍蜷', '浊响', '稍糊', '凹陷', '硬滑', '坏瓜'],\n",
              " ['浅白', '稍蜷', '沉闷', '稍糊', '凹陷', '硬滑', '坏瓜'],\n",
              " ['乌黑', '稍蜷', '浊响', '清晰', '稍凹', '软粘', '坏瓜'],\n",
              " ['浅白', '蜷缩', '浊响', '模糊', '平坦', '硬滑', '坏瓜'],\n",
              " ['青绿', '蜷缩', '沉闷', '稍糊', '稍凹', '硬滑', '坏瓜']]"
            ]
          },
          "metadata": {
            "tags": []
          },
          "execution_count": 4
        }
      ]
    },
    {
      "metadata": {
        "id": "qTEMJAfYG4UR",
        "colab_type": "code",
        "colab": {}
      },
      "cell_type": "code",
      "source": [
        "import trees"
      ],
      "execution_count": 0,
      "outputs": []
    },
    {
      "metadata": {
        "id": "6aOIL90EG7RD",
        "colab_type": "code",
        "colab": {}
      },
      "cell_type": "code",
      "source": [
        "# myDat, labels = trees.createDataSet()\n",
        "# myDat"
      ],
      "execution_count": 0,
      "outputs": []
    },
    {
      "metadata": {
        "id": "wd9DE6cjHAV9",
        "colab_type": "text"
      },
      "cell_type": "markdown",
      "source": [
        "### 构造决策树"
      ]
    },
    {
      "metadata": {
        "id": "MXZIkkf_HHp6",
        "colab_type": "text"
      },
      "cell_type": "markdown",
      "source": [
        "#### 信息增益"
      ]
    },
    {
      "metadata": {
        "id": "NCd5EggfG8QV",
        "colab_type": "code",
        "outputId": "8e0e3766-73ac-4a6e-b080-6a0871d9b8ae",
        "colab": {
          "base_uri": "https://localhost:8080/",
          "height": 34
        }
      },
      "cell_type": "code",
      "source": [
        "trees.calcShannonEnt(dataSet)"
      ],
      "execution_count": 7,
      "outputs": [
        {
          "output_type": "execute_result",
          "data": {
            "text/plain": [
              "0.9975025463691153"
            ]
          },
          "metadata": {
            "tags": []
          },
          "execution_count": 7
        }
      ]
    },
    {
      "metadata": {
        "id": "WQCwVzMFHVJ4",
        "colab_type": "text"
      },
      "cell_type": "markdown",
      "source": [
        "#### 划分数据集"
      ]
    },
    {
      "metadata": {
        "id": "GbJr0EbyHWNw",
        "colab_type": "code",
        "colab": {}
      },
      "cell_type": "code",
      "source": [
        "# len(trees.splitDataSet(myDat, 0, 3))"
      ],
      "execution_count": 0,
      "outputs": []
    },
    {
      "metadata": {
        "id": "FBiXH3KtHaDq",
        "colab_type": "code",
        "colab": {}
      },
      "cell_type": "code",
      "source": [
        "# trees.splitDataSet(myDat, 0, 0)"
      ],
      "execution_count": 0,
      "outputs": []
    },
    {
      "metadata": {
        "id": "82zb8Bq6K71a",
        "colab_type": "code",
        "colab": {}
      },
      "cell_type": "code",
      "source": [
        "def chooseBestFeatureToSplit(dataSet, labels):\n",
        "    numFeatures = len(dataSet[0]) - 1      #the last column is used for the labels\n",
        "    baseEntropy = trees.calcShannonEnt(dataSet)\n",
        "    bestInfoGain = 0.0; bestFeature = -1\n",
        "    for i in range(numFeatures):        #iterate over all the features\n",
        "        featList = [example[i] for example in dataSet]#create a list of all the examples of this feature\n",
        "        uniqueVals = set(featList)       #get a set of unique values\n",
        "        newEntropy = 0.0\n",
        "        for value in uniqueVals:\n",
        "            subDataSet = trees.splitDataSet(dataSet, i, value)\n",
        "            prob = len(subDataSet)/float(len(dataSet))\n",
        "            newEntropy += prob * trees.calcShannonEnt(subDataSet)\n",
        "        infoGain = baseEntropy - newEntropy     #calculate the info gain; ie reduction in entropy\n",
        "        if (infoGain > bestInfoGain):       #compare this to the best gain so far\n",
        "            bestInfoGain = infoGain         #if better than current best, set to best\n",
        "            bestFeature = i\n",
        "    return labels[bestFeature]                      #returns an integer\n"
      ],
      "execution_count": 0,
      "outputs": []
    },
    {
      "metadata": {
        "id": "i9DlUcibLa3C",
        "colab_type": "code",
        "colab": {
          "base_uri": "https://localhost:8080/",
          "height": 34
        },
        "outputId": "45fcd1ad-0001-4b2c-f42a-8def02133a65"
      },
      "cell_type": "code",
      "source": [
        "chooseBestFeatureToSplit(dataSet, labels)"
      ],
      "execution_count": 48,
      "outputs": [
        {
          "output_type": "execute_result",
          "data": {
            "text/plain": [
              "'纹理'"
            ]
          },
          "metadata": {
            "tags": []
          },
          "execution_count": 48
        }
      ]
    },
    {
      "metadata": {
        "id": "7_hkmsMeHbfs",
        "colab_type": "code",
        "outputId": "1306737e-8bda-4880-bed3-3a97a55fb9f5",
        "colab": {
          "base_uri": "https://localhost:8080/",
          "height": 34
        }
      },
      "cell_type": "code",
      "source": [
        "trees.chooseBestFeatureToSplit(dataSet)"
      ],
      "execution_count": 9,
      "outputs": [
        {
          "output_type": "execute_result",
          "data": {
            "text/plain": [
              "3"
            ]
          },
          "metadata": {
            "tags": []
          },
          "execution_count": 9
        }
      ]
    },
    {
      "metadata": {
        "id": "U6u__f3kHlWb",
        "colab_type": "text"
      },
      "cell_type": "markdown",
      "source": [
        "#### 递归构建决策树\n",
        "\n",
        "构建决策树时为什么要删除label？数据分裂的时候删除了对应属性"
      ]
    },
    {
      "metadata": {
        "id": "3vvqMjhZHo42",
        "colab_type": "text"
      },
      "cell_type": "markdown",
      "source": [
        "在Python语言中函数参数是列表类型时，参数是按照引用方式传递的\n",
        "\n",
        "[正确复制列表的方法](https://www.cnblogs.com/ifantastic/p/3811145.html)：a=b[:]"
      ]
    },
    {
      "metadata": {
        "id": "IKPMurlAPwSQ",
        "colab_type": "text"
      },
      "cell_type": "markdown",
      "source": [
        "![](./images/decision%20tree.png)"
      ]
    },
    {
      "metadata": {
        "id": "-YZufvvlFnke",
        "colab_type": "code",
        "colab": {}
      },
      "cell_type": "code",
      "source": [
        "classList = [example[-1] for example in dataSet]\n",
        "np.unique(classList, return_counts=True)"
      ],
      "execution_count": 0,
      "outputs": []
    },
    {
      "metadata": {
        "id": "X-5HALb3F3oS",
        "colab_type": "code",
        "colab": {
          "base_uri": "https://localhost:8080/",
          "height": 102
        },
        "outputId": "8b5832dc-6d67-471f-d61f-8da4e4f8c0e5"
      },
      "cell_type": "code",
      "source": [
        "labels_full"
      ],
      "execution_count": 109,
      "outputs": [
        {
          "output_type": "execute_result",
          "data": {
            "text/plain": [
              "{'敲击': {'沉闷', '浊响', '清脆'},\n",
              " '根蒂': {'硬挺', '稍蜷', '蜷缩'},\n",
              " '纹理': {'模糊', '清晰', '稍糊'},\n",
              " '脐部': {'凹陷', '平坦', '稍凹'},\n",
              " '色泽': {'乌黑', '浅白', '青绿'}}"
            ]
          },
          "metadata": {
            "tags": []
          },
          "execution_count": 109
        }
      ]
    },
    {
      "metadata": {
        "id": "VApXI37wUNoI",
        "colab_type": "code",
        "colab": {}
      },
      "cell_type": "code",
      "source": [
        "# del(labels_full['触感'])"
      ],
      "execution_count": 0,
      "outputs": []
    },
    {
      "metadata": {
        "id": "mX413FV8SKT6",
        "colab_type": "code",
        "colab": {
          "base_uri": "https://localhost:8080/",
          "height": 34
        },
        "outputId": "47bb07fc-6e89-4996-c2b2-b1fdc7613ecf"
      },
      "cell_type": "code",
      "source": [
        "# labels_full.pop('触感')"
      ],
      "execution_count": 104,
      "outputs": [
        {
          "output_type": "execute_result",
          "data": {
            "text/plain": [
              "{'硬滑', '软粘'}"
            ]
          },
          "metadata": {
            "tags": []
          },
          "execution_count": 104
        }
      ]
    },
    {
      "metadata": {
        "id": "B-2Zj7UGNKso",
        "colab_type": "code",
        "colab": {}
      },
      "cell_type": "code",
      "source": [
        "def createTree(dataSet, labels, labels_full):\n",
        "    classList = [example[-1] for example in dataSet]   #取出数据集中的分类标签，也就是父结点中类别分布\n",
        "    \n",
        "    # 情形1：数据集全属于同一个类别，count() 方法用于统计某个元素在列表中出现的次数\n",
        "    if classList.count(classList[0]) == len(classList):\n",
        "        return classList[0]         #stop splitting when all of the classes are equal\n",
        "    \n",
        "    # 情形2：属性集合已经为空（因为每个样本中包含了类别标签，所以只剩下类别标签一个元素）或者样本在所有属性上取值相同\n",
        "    dataSetUnlabeled = [sample[:-1] for sample in dataSet]\n",
        "    isAllAttributesSame = dataSetUnlabeled.count(dataSetUnlabeled[0]) == len(dataSetUnlabeled)\n",
        "    if len(dataSet[0]) == 1 or isAllAttributesSame:        #stop splitting when there are no more features in dataSet\n",
        "        return trees.majorityCnt(classList)\n",
        "    \n",
        "    bestFeat = trees.chooseBestFeatureToSplit(dataSet)\n",
        "    bestFeatLabel = labels[bestFeat]\n",
        "        \n",
        "#     featValues = [example[bestFeat] for example in dataSet]\n",
        "#     uniqueVals = set(featValues)\n",
        "    uniqueVals = labels_full[bestFeatLabel]\n",
        "    \n",
        "    myTree = {bestFeatLabel:{}}\n",
        "    for value in uniqueVals:\n",
        "        subDataSet = trees.splitDataSet(dataSet, bestFeat, value)\n",
        "        if len(subDataSet) == 0 :\n",
        "          # 情形3：当前结点包含的样本集合为空，不能划分，使用父结点的最多的类为标签\n",
        "          myTree[bestFeatLabel][value] = trees.majorityCnt(classList)\n",
        "        else:\n",
        "          subLabels = labels[:]       #copy all of labels, so trees don't mess up existing labels\n",
        "          del(subLabels[bestFeat])\n",
        "          myTree[bestFeatLabel][value] = createTree(trees.splitDataSet(dataSet, bestFeat, value), subLabels, labels_full)\n",
        "    return myTree"
      ],
      "execution_count": 0,
      "outputs": []
    },
    {
      "metadata": {
        "id": "rIA66kEoHuzB",
        "colab_type": "code",
        "outputId": "13e51ac3-9632-44a6-92c5-28421f9cc054",
        "colab": {
          "base_uri": "https://localhost:8080/",
          "height": 153
        }
      },
      "cell_type": "code",
      "source": [
        "myTree = createTree(dataSet, labels, labels_full)\n",
        "\n",
        "print(\"===========================\")\n",
        "pprint(myTree)"
      ],
      "execution_count": 42,
      "outputs": [
        {
          "output_type": "stream",
          "text": [
            "===========================\n",
            "{'纹理': {'模糊': '坏瓜',\n",
            "        '清晰': {'根蒂': {'硬挺': '坏瓜',\n",
            "                      '稍蜷': {'色泽': {'乌黑': {'触感': {'硬滑': '好瓜', '软粘': '坏瓜'}},\n",
            "                                    '浅白': '好瓜',\n",
            "                                    '青绿': '好瓜'}},\n",
            "                      '蜷缩': '好瓜'}},\n",
            "        '稍糊': {'触感': {'硬滑': '坏瓜', '软粘': '好瓜'}}}}\n"
          ],
          "name": "stdout"
        }
      ]
    },
    {
      "metadata": {
        "id": "1I3q9bhRHzrr",
        "colab_type": "code",
        "colab": {}
      },
      "cell_type": "code",
      "source": [
        "import treePlotter"
      ],
      "execution_count": 0,
      "outputs": []
    },
    {
      "metadata": {
        "id": "bU3xMB8SH2I6",
        "colab_type": "code",
        "outputId": "98968bd4-7bac-46c0-b36a-a058161076c8",
        "colab": {
          "base_uri": "https://localhost:8080/",
          "height": 342
        }
      },
      "cell_type": "code",
      "source": [
        "treePlotter.createPlot(myTree)"
      ],
      "execution_count": 100,
      "outputs": [
        {
          "output_type": "display_data",
          "data": {
            "image/png": "[encoded data removed]",
            "text/plain": [
              "<Figure size 576x396 with 1 Axes>"
            ]
          },
          "metadata": {
            "tags": []
          }
        }
      ]
    },
    {
      "metadata": {
        "id": "UjmWglb4IbVQ",
        "colab_type": "text"
      },
      "cell_type": "markdown",
      "source": [
        "### 使用决策树分类"
      ]
    },
    {
      "metadata": {
        "id": "zpcS_5GnIHYk",
        "colab_type": "text"
      },
      "cell_type": "markdown",
      "source": [
        "python2 和python3 中dict.keys()的返回不同，在2中返回的是list类型，而在3中返回的不是"
      ]
    },
    {
      "metadata": {
        "id": "7Cz_tEc9IEmK",
        "colab_type": "code",
        "outputId": "a796839c-ff75-49ca-bbbe-d9c838c89b6d",
        "colab": {
          "base_uri": "https://localhost:8080/",
          "height": 34
        }
      },
      "cell_type": "code",
      "source": [
        "list(myTree.keys())[0]"
      ],
      "execution_count": 27,
      "outputs": [
        {
          "output_type": "execute_result",
          "data": {
            "text/plain": [
              "'纹理'"
            ]
          },
          "metadata": {
            "tags": []
          },
          "execution_count": 27
        }
      ]
    },
    {
      "metadata": {
        "id": "5oMDSKbVIQVu",
        "colab_type": "code",
        "outputId": "a9569cfd-ea99-4fca-fd5f-a6b1c8568d95",
        "colab": {
          "base_uri": "https://localhost:8080/",
          "height": 34
        }
      },
      "cell_type": "code",
      "source": [
        "isinstance(myTree, dict)"
      ],
      "execution_count": 28,
      "outputs": [
        {
          "output_type": "execute_result",
          "data": {
            "text/plain": [
              "True"
            ]
          },
          "metadata": {
            "tags": []
          },
          "execution_count": 28
        }
      ]
    },
    {
      "metadata": {
        "id": "CTwRgaRLIYuX",
        "colab_type": "code",
        "colab": {}
      },
      "cell_type": "code",
      "source": [
        "# trees.classify(myTree, labels, [1,0])"
      ],
      "execution_count": 0,
      "outputs": []
    },
    {
      "metadata": {
        "id": "SUp0uFXoIqne",
        "colab_type": "text"
      },
      "cell_type": "markdown",
      "source": [
        "### 决策树的存储和载入"
      ]
    },
    {
      "metadata": {
        "id": "noo3cDAfIpQm",
        "colab_type": "code",
        "colab": {}
      },
      "cell_type": "code",
      "source": [
        "trees.storeTree(myTree, 'classifierStorage.txt')"
      ],
      "execution_count": 0,
      "outputs": []
    },
    {
      "metadata": {
        "id": "q67ZMr9BI149",
        "colab_type": "code",
        "outputId": "30c5f80d-cce1-4c0c-acf5-081247800f2d",
        "colab": {
          "base_uri": "https://localhost:8080/",
          "height": 102
        }
      },
      "cell_type": "code",
      "source": [
        "trees.grabTree('classifierStorage.txt')"
      ],
      "execution_count": 32,
      "outputs": [
        {
          "output_type": "execute_result",
          "data": {
            "text/plain": [
              "{'纹理': {'模糊': '坏瓜',\n",
              "  '清晰': {'根蒂': {'硬挺': '坏瓜',\n",
              "    '稍蜷': {'色泽': {'乌黑': {'触感': {'硬滑': '好瓜', '软粘': '坏瓜'}}, '青绿': '好瓜'}},\n",
              "    '蜷缩': '好瓜'}},\n",
              "  '稍糊': {'触感': {'硬滑': '坏瓜', '软粘': '好瓜'}}}}"
            ]
          },
          "metadata": {
            "tags": []
          },
          "execution_count": 32
        }
      ]
    },
    {
      "metadata": {
        "id": "DuZko3I0I2pN",
        "colab_type": "text"
      },
      "cell_type": "markdown",
      "source": [
        "### 示例"
      ]
    },
    {
      "metadata": {
        "id": "qzekL42GI5Lo",
        "colab_type": "code",
        "colab": {}
      },
      "cell_type": "code",
      "source": [
        "fr = open('lenses.txt')\n",
        "lenses=[inst.strip().split('\\t') for inst in fr.readlines()]"
      ],
      "execution_count": 0,
      "outputs": []
    },
    {
      "metadata": {
        "id": "yG4UQHH9I-Fb",
        "colab_type": "code",
        "colab": {}
      },
      "cell_type": "code",
      "source": [
        "lensesLabels = ['age', 'prescript', 'asticmatic', 'tearrate']\n",
        "lensesTree = trees.createTree(lenses, lensesLabels)"
      ],
      "execution_count": 0,
      "outputs": []
    },
    {
      "metadata": {
        "id": "-LkG8HZLJAol",
        "colab_type": "code",
        "outputId": "29496db5-19b5-4a8f-8f95-1f13d2b73ebc",
        "colab": {
          "base_uri": "https://localhost:8080/",
          "height": 153
        }
      },
      "cell_type": "code",
      "source": [
        "lensesTree"
      ],
      "execution_count": 35,
      "outputs": [
        {
          "output_type": "execute_result",
          "data": {
            "text/plain": [
              "{'tearrate': {'normal': {'asticmatic': {'no': {'age': {'pre': 'soft',\n",
              "      'presbyopic': {'prescript': {'hyper': 'soft', 'myope': 'no lenses'}},\n",
              "      'young': 'soft'}},\n",
              "    'yes': {'prescript': {'hyper': {'age': {'pre': 'no lenses',\n",
              "        'presbyopic': 'no lenses',\n",
              "        'young': 'hard'}},\n",
              "      'myope': 'hard'}}}},\n",
              "  'reduced': 'no lenses'}}"
            ]
          },
          "metadata": {
            "tags": []
          },
          "execution_count": 35
        }
      ]
    },
    {
      "metadata": {
        "id": "-4D8N1h5JDYN",
        "colab_type": "code",
        "outputId": "872d30fd-dbe0-448d-be2e-d3a4b207b48e",
        "colab": {
          "base_uri": "https://localhost:8080/",
          "height": 342
        }
      },
      "cell_type": "code",
      "source": [
        "treePlotter.createPlot(lensesTree)"
      ],
      "execution_count": 36,
      "outputs": [
        {
          "output_type": "display_data",
          "data": {
            "image/png": "[encoded data removed]",
            "text/plain": [
              "<Figure size 576x396 with 1 Axes>"
            ]
          },
          "metadata": {
            "tags": []
          }
        }
      ]
    },
    {
      "metadata": {
        "id": "KlXgPTe8nPGr",
        "colab_type": "text"
      },
      "cell_type": "markdown",
      "source": [
        "[Machine Learning with Python: Decision Trees in Python](https://www.python-course.eu/Decision_Trees.php)"
      ]
    },
    {
      "metadata": {
        "id": "zA2cIJKgnPsg",
        "colab_type": "code",
        "outputId": "27a12b5b-f9a6-4762-fb27-c30692414c3c",
        "colab": {
          "base_uri": "https://localhost:8080/",
          "height": 359
        }
      },
      "cell_type": "code",
      "source": [
        "import pandas as pd\n",
        "data = pd.DataFrame({\"toothed\":[\"True\",\"True\",\"True\",\"False\",\"True\",\"True\",\"True\",\"True\",\"True\",\"False\"],\n",
        "                     \"hair\":[\"True\",\"True\",\"False\",\"True\",\"True\",\"True\",\"False\",\"False\",\"True\",\"False\"],\n",
        "                     \"breathes\":[\"True\",\"True\",\"True\",\"True\",\"True\",\"True\",\"False\",\"True\",\"True\",\"True\"],\n",
        "                     \"legs\":[\"True\",\"True\",\"False\",\"True\",\"True\",\"True\",\"False\",\"False\",\"True\",\"True\"],\n",
        "                     \"species\":[\"Mammal\",\"Mammal\",\"Reptile\",\"Mammal\",\"Mammal\",\"Mammal\",\"Reptile\",\"Reptile\",\"Mammal\",\"Reptile\"]}, \n",
        "                    columns=[\"toothed\",\"hair\",\"breathes\",\"legs\",\"species\"])\n",
        "features = data[[\"toothed\",\"hair\",\"breathes\",\"legs\"]]\n",
        "target = data[\"species\"]\n",
        "data"
      ],
      "execution_count": 37,
      "outputs": [
        {
          "output_type": "execute_result",
          "data": {
            "text/html": [
              "<div>\n",
              "<style scoped>\n",
              "    .dataframe tbody tr th:only-of-type {\n",
              "        vertical-align: middle;\n",
              "    }\n",
              "\n",
              "    .dataframe tbody tr th {\n",
              "        vertical-align: top;\n",
              "    }\n",
              "\n",
              "    .dataframe thead th {\n",
              "        text-align: right;\n",
              "    }\n",
              "</style>\n",
              "<table border=\"1\" class=\"dataframe\">\n",
              "  <thead>\n",
              "    <tr style=\"text-align: right;\">\n",
              "      <th></th>\n",
              "      <th>toothed</th>\n",
              "      <th>hair</th>\n",
              "      <th>breathes</th>\n",
              "      <th>legs</th>\n",
              "      <th>species</th>\n",
              "    </tr>\n",
              "  </thead>\n",
              "  <tbody>\n",
              "    <tr>\n",
              "      <th>0</th>\n",
              "      <td>True</td>\n",
              "      <td>True</td>\n",
              "      <td>True</td>\n",
              "      <td>True</td>\n",
              "      <td>Mammal</td>\n",
              "    </tr>\n",
              "    <tr>\n",
              "      <th>1</th>\n",
              "      <td>True</td>\n",
              "      <td>True</td>\n",
              "      <td>True</td>\n",
              "      <td>True</td>\n",
              "      <td>Mammal</td>\n",
              "    </tr>\n",
              "    <tr>\n",
              "      <th>2</th>\n",
              "      <td>True</td>\n",
              "      <td>False</td>\n",
              "      <td>True</td>\n",
              "      <td>False</td>\n",
              "      <td>Reptile</td>\n",
              "    </tr>\n",
              "    <tr>\n",
              "      <th>3</th>\n",
              "      <td>False</td>\n",
              "      <td>True</td>\n",
              "      <td>True</td>\n",
              "      <td>True</td>\n",
              "      <td>Mammal</td>\n",
              "    </tr>\n",
              "    <tr>\n",
              "      <th>4</th>\n",
              "      <td>True</td>\n",
              "      <td>True</td>\n",
              "      <td>True</td>\n",
              "      <td>True</td>\n",
              "      <td>Mammal</td>\n",
              "    </tr>\n",
              "    <tr>\n",
              "      <th>5</th>\n",
              "      <td>True</td>\n",
              "      <td>True</td>\n",
              "      <td>True</td>\n",
              "      <td>True</td>\n",
              "      <td>Mammal</td>\n",
              "    </tr>\n",
              "    <tr>\n",
              "      <th>6</th>\n",
              "      <td>True</td>\n",
              "      <td>False</td>\n",
              "      <td>False</td>\n",
              "      <td>False</td>\n",
              "      <td>Reptile</td>\n",
              "    </tr>\n",
              "    <tr>\n",
              "      <th>7</th>\n",
              "      <td>True</td>\n",
              "      <td>False</td>\n",
              "      <td>True</td>\n",
              "      <td>False</td>\n",
              "      <td>Reptile</td>\n",
              "    </tr>\n",
              "    <tr>\n",
              "      <th>8</th>\n",
              "      <td>True</td>\n",
              "      <td>True</td>\n",
              "      <td>True</td>\n",
              "      <td>True</td>\n",
              "      <td>Mammal</td>\n",
              "    </tr>\n",
              "    <tr>\n",
              "      <th>9</th>\n",
              "      <td>False</td>\n",
              "      <td>False</td>\n",
              "      <td>True</td>\n",
              "      <td>True</td>\n",
              "      <td>Reptile</td>\n",
              "    </tr>\n",
              "  </tbody>\n",
              "</table>\n",
              "</div>"
            ],
            "text/plain": [
              "  toothed   hair breathes   legs  species\n",
              "0    True   True     True   True   Mammal\n",
              "1    True   True     True   True   Mammal\n",
              "2    True  False     True  False  Reptile\n",
              "3   False   True     True   True   Mammal\n",
              "4    True   True     True   True   Mammal\n",
              "5    True   True     True   True   Mammal\n",
              "6    True  False    False  False  Reptile\n",
              "7    True  False     True  False  Reptile\n",
              "8    True   True     True   True   Mammal\n",
              "9   False  False     True   True  Reptile"
            ]
          },
          "metadata": {
            "tags": []
          },
          "execution_count": 37
        }
      ]
    },
    {
      "metadata": {
        "id": "1no04vNBn9F7",
        "colab_type": "code",
        "outputId": "ccd29998-2733-45d9-a067-96cb2d01b2eb",
        "colab": {
          "base_uri": "https://localhost:8080/",
          "height": 361
        }
      },
      "cell_type": "code",
      "source": [
        "import numpy as np\n",
        "import matplotlib.pyplot as plt\n",
        "fig=plt.figure()\n",
        "ax=fig.add_subplot(111)\n",
        "ax.plot(np.linspace(0.01,1),np.log2(np.linspace(0.01,1)))\n",
        "ax.set_xlabel(\"P(x)\")\n",
        "ax.set_ylabel(\"log2(P(x))\")\n",
        "plt.show()"
      ],
      "execution_count": 38,
      "outputs": [
        {
          "output_type": "display_data",
          "data": {
            "image/png": "[encoded data removed]",
            "text/plain": [
              "<Figure size 576x396 with 1 Axes>"
            ]
          },
          "metadata": {
            "tags": []
          }
        }
      ]
    },
    {
      "metadata": {
        "id": "_K4yD1baoNY1",
        "colab_type": "text"
      },
      "cell_type": "markdown",
      "source": [
        "## Classification Decision trees from scratch with Python"
      ]
    },
    {
      "metadata": {
        "id": "wosh0SJOoQT4",
        "colab_type": "code",
        "outputId": "670c5ace-2840-4a21-dd36-40c1dd67a49d",
        "colab": {
          "base_uri": "https://localhost:8080/",
          "height": 204
        }
      },
      "cell_type": "code",
      "source": [
        "!wget http://archive.ics.uci.edu/ml/machine-learning-databases/zoo/zoo.data"
      ],
      "execution_count": 39,
      "outputs": [
        {
          "output_type": "stream",
          "text": [
            "--2019-04-03 01:51:43--  http://archive.ics.uci.edu/ml/machine-learning-databases/zoo/zoo.data\n",
            "Resolving archive.ics.uci.edu (archive.ics.uci.edu)... 128.195.10.249\n",
            "Connecting to archive.ics.uci.edu (archive.ics.uci.edu)|128.195.10.249|:80... connected.\n",
            "HTTP request sent, awaiting response... 200 OK\n",
            "Length: 4126 (4.0K) [text/plain]\n",
            "Saving to: ‘zoo.data’\n",
            "\n",
            "\rzoo.data              0%[                    ]       0  --.-KB/s               \rzoo.data            100%[===================>]   4.03K  --.-KB/s    in 0s      \n",
            "\n",
            "2019-04-03 01:51:44 (249 MB/s) - ‘zoo.data’ saved [4126/4126]\n",
            "\n"
          ],
          "name": "stdout"
        }
      ]
    },
    {
      "metadata": {
        "id": "Lz3WQztmp5ra",
        "colab_type": "code",
        "colab": {}
      },
      "cell_type": "code",
      "source": [
        "\"\"\"\n",
        "Make the imports of python packages needed\n",
        "\"\"\"\n",
        "\n",
        "import pandas as pd\n",
        "import numpy as np\n",
        "from pprint import pprint"
      ],
      "execution_count": 0,
      "outputs": []
    },
    {
      "metadata": {
        "id": "TLEzWV6-pnkD",
        "colab_type": "code",
        "colab": {}
      },
      "cell_type": "code",
      "source": [
        "#Import the dataset and define the feature as well as the target datasets / columns#\n",
        "dataset = pd.read_csv('zoo.data',\n",
        "                      names=['animal_name','hair','feathers','eggs','milk',\n",
        "                             'airbone','aquatic','predator','toothed','backbone',\n",
        "                             'breathes','venomous','fins','legs','tail','domestic','catsize','class',])#Import all columns omitting the fist which consists the names of the animals\n",
        "#We drop the animal names since this is not a good feature to split the data on\n",
        "dataset=dataset.drop('animal_name',axis=1)"
      ],
      "execution_count": 0,
      "outputs": []
    },
    {
      "metadata": {
        "id": "sCdGYtcVqH3E",
        "colab_type": "code",
        "colab": {}
      },
      "cell_type": "code",
      "source": [
        "def entropy(target_col):\n",
        "    \"\"\"\n",
        "    Calculate the entropy of a dataset.\n",
        "    The only parameter of this function is the target_col parameter which specifies the target column\n",
        "    \"\"\"\n",
        "    elements,counts = np.unique(target_col,return_counts = True)\n",
        "    entropy = np.sum([(-counts[i]/np.sum(counts))*np.log2(counts[i]/np.sum(counts)) for i in range(len(elements))])\n",
        "    return entropy"
      ],
      "execution_count": 0,
      "outputs": []
    },
    {
      "metadata": {
        "id": "xfuUb1EtqZFq",
        "colab_type": "code",
        "colab": {}
      },
      "cell_type": "code",
      "source": [
        "def InfoGain(data,split_attribute_name,target_name=\"class\"):\n",
        "    \"\"\"\n",
        "    Calculate the information gain of a dataset. This function takes three parameters:\n",
        "    1. data = The dataset for whose feature the IG should be calculated\n",
        "    2. split_attribute_name = the name of the feature for which the information gain should be calculated\n",
        "    3. target_name = the name of the target feature. The default for this example is \"class\"\n",
        "    \"\"\"    \n",
        "    #Calculate the entropy of the total dataset\n",
        "    total_entropy = entropy(data[target_name])\n",
        "    \n",
        "    ##Calculate the entropy of the dataset\n",
        "    \n",
        "    #Calculate the values and the corresponding counts for the split attribute \n",
        "    vals,counts= np.unique(data[split_attribute_name],return_counts=True)\n",
        "    \n",
        "    #Calculate the weighted entropy\n",
        "    Weighted_Entropy = np.sum([(counts[i]/np.sum(counts))*entropy(data.where(data[split_attribute_name]==vals[i]).dropna()[target_name]) for i in range(len(vals))])\n",
        "    \n",
        "    #Calculate the information gain\n",
        "    Information_Gain = total_entropy - Weighted_Entropy\n",
        "    return Information_Gain"
      ],
      "execution_count": 0,
      "outputs": []
    },
    {
      "metadata": {
        "id": "3LPzpGlMqlAz",
        "colab_type": "code",
        "colab": {}
      },
      "cell_type": "code",
      "source": [
        "def ID3(data,originaldata,features,target_attribute_name=\"class\",parent_node_class = None):\n",
        "    \"\"\"\n",
        "    ID3 Algorithm: This function takes five paramters:\n",
        "    1. data = the data for which the ID3 algorithm should be run --> In the first run this equals the total dataset\n",
        " \n",
        "    2. originaldata = This is the original dataset needed to calculate the mode target feature value of the original dataset\n",
        "    in the case the dataset delivered by the first parameter is empty\n",
        "    3. features = the feature space of the dataset . This is needed for the recursive call since during the tree growing process\n",
        "    we have to remove features from our dataset --> Splitting at each node\n",
        "    4. target_attribute_name = the name of the target attribute\n",
        "    5. parent_node_class = This is the value or class of the mode target feature value of the parent node for a specific node. This is \n",
        "    also needed for the recursive call since if the splitting leads to a situation that there are no more features left in the feature\n",
        "    space, we want to return the mode target feature value of the direct parent node.\n",
        "    \"\"\"   \n",
        "    #Define the stopping criteria --> If one of this is satisfied, we want to return a leaf node#\n",
        "    \n",
        "    #If all target_values have the same value, return this value\n",
        "    if len(np.unique(data[target_attribute_name])) <= 1:\n",
        "        return np.unique(data[target_attribute_name])[0]\n",
        "    \n",
        "    #If the dataset is empty, return the mode target feature value in the original dataset\n",
        "    elif len(data)==0:\n",
        "        return np.unique(originaldata[target_attribute_name])[np.argmax(np.unique(originaldata[target_attribute_name],return_counts=True)[1])]\n",
        "    \n",
        "    #If the feature space is empty, return the mode target feature value of the direct parent node --> Note that\n",
        "    #the direct parent node is that node which has called the current run of the ID3 algorithm and hence\n",
        "    #the mode target feature value is stored in the parent_node_class variable.\n",
        "    \n",
        "    elif len(features) ==0:\n",
        "        return parent_node_class\n",
        "    \n",
        "    #If none of the above holds true, grow the tree!\n",
        "    \n",
        "    else:\n",
        "        #Set the default value for this node --> The mode target feature value of the current node\n",
        "        parent_node_class = np.unique(data[target_attribute_name])[np.argmax(np.unique(data[target_attribute_name],return_counts=True)[1])]\n",
        "        \n",
        "        #Select the feature which best splits the dataset\n",
        "        item_values = [InfoGain(data,feature,target_attribute_name) for feature in features] #Return the information gain values for the features in the dataset\n",
        "        best_feature_index = np.argmax(item_values)\n",
        "        best_feature = features[best_feature_index]\n",
        "        \n",
        "        #Create the tree structure. The root gets the name of the feature (best_feature) with the maximum information\n",
        "        #gain in the first run\n",
        "        tree = {best_feature:{}}\n",
        "        \n",
        "        \n",
        "        #Remove the feature with the best inforamtion gain from the feature space\n",
        "        features = [i for i in features if i != best_feature]\n",
        "        \n",
        "        #Grow a branch under the root node for each possible value of the root node feature\n",
        "        \n",
        "        for value in np.unique(data[best_feature]):\n",
        "            value = value\n",
        "            #Split the dataset along the value of the feature with the largest information gain and therwith create sub_datasets\n",
        "            sub_data = data.where(data[best_feature] == value).dropna()\n",
        "            \n",
        "            #Call the ID3 algorithm for each of those sub_datasets with the new parameters --> Here the recursion comes in!\n",
        "            subtree = ID3(sub_data,dataset,features,target_attribute_name,parent_node_class)\n",
        "            \n",
        "            #Add the sub tree, grown from the sub_dataset to the tree under the root node\n",
        "            tree[best_feature][value] = subtree\n",
        "            \n",
        "        return(tree) "
      ],
      "execution_count": 0,
      "outputs": []
    },
    {
      "metadata": {
        "id": "bPUyOgR7qtbi",
        "colab_type": "code",
        "colab": {}
      },
      "cell_type": "code",
      "source": [
        "def predict(query,tree,default = 1):\n",
        "    \"\"\"\n",
        "    Prediction of a new/unseen query instance. This takes two parameters:\n",
        "    1. The query instance as a dictionary of the shape {\"feature_name\":feature_value,...}\n",
        "    2. The tree \n",
        "    We do this also in a recursive manner. That is, we wander down the tree and check if we have reached a leaf or if we are still in a sub tree. \n",
        "    Since this is a important step to understand, the single steps are extensively commented below.\n",
        "    1.Check for every feature in the query instance if this feature is existing in the tree.keys() for the first call, \n",
        "    tree.keys() only contains the value for the root node \n",
        "    --> if this value is not existing, we can not make a prediction and have to \n",
        "    return the default value which is the majority value of the target feature\n",
        "    2. First of all we have to take care of a important fact: Since we train our model with a database A and then show our model\n",
        "    a unseen query it may happen that the feature values of these query are not existing in our tree model because non of the\n",
        "    training instances has had such a value for this specific feature. \n",
        "    For instance imagine the situation where your model has only seen animals with one to four\n",
        "    legs - The \"legs\" node in your model will only have four outgoing branches (from one to four). If you now show your model\n",
        "    a new instance (animal) which has for the legs feature the vale 5, you have to tell your model what to do in such a \n",
        "    situation because otherwise there is no classification possible because in the classification step you try to \n",
        "    run down the outgoing branch with the value 5 but there is no such a branch. Hence: Error and no Classification!\n",
        "    We can address this issue with a classification value of for instance (999) which tells us that there is no classification\n",
        "    possible or we assign the most frequent target feature value of our dataset used to train the model. Or, in for instance \n",
        "    medical application we can return the most worse case - just to make sure... \n",
        "    We can also return the most frequent value of the direct parent node. To make a long story short, we have to tell the model \n",
        "    what to do in this situation.\n",
        "    In our example, since we are dealing with animal species where a false classification is not that critical, we will assign\n",
        "    the value 1 which is the value for the mammal species (for convenience).\n",
        "    3. Address the key in the tree which fits the value for key --> Note that key == the features in the query. \n",
        "    Because we want the tree to predict the value which is hidden under the key value (imagine you have a drawn tree model on \n",
        "    the table in front of you and you have a query instance for which you want to predict the target feature \n",
        "    - What are you doing? - Correct:\n",
        "    You start at the root node and wander down the tree comparing your query to the node values. Hence you want to have the\n",
        "    value which is hidden under the current node. If this is a leaf, perfect, otherwise you wander the tree deeper until you\n",
        "    get to a leaf node. \n",
        "    Though, you want to have this \"something\" [either leaf or sub_tree] which is hidden under the current node\n",
        "    and hence we must address the node in the tree which == the key value from our query instance. \n",
        "    This is done with tree[keys]. Next you want to run down the branch of this node which is equal to the value given \"behind\"\n",
        "    the key value of your query instance e.g. if you find \"legs\" == to tree.keys() that is, for the first run == the root node.\n",
        "    You want to run deeper and therefore you have to address the branch at your node whose value is == to the value behind key.\n",
        "    This is done with query[key] e.g. query[key] == query['legs'] == 0 --> Therewith we run down the branch of the node with the\n",
        "    value 0. Summarized, in this step we want to address the node which is hidden behind a specific branch of the root node (in the first run)\n",
        "    this is done with: result = [key][query[key]]\n",
        "    4. As said in the 2. step, we run down the tree along nodes and branches until we get to a leaf node.\n",
        "    That is, if result = tree[key][query[key]] returns another tree object (we have represented this by a dict object --> \n",
        "    that is if result is a dict object) we know that we have not arrived at a root node and have to run deeper the tree. \n",
        "    Okay... Look at your drawn tree in front of you... what are you doing?...well, you run down the next branch... \n",
        "    exactly as we have done it above with the slight difference that we already have passed a node and therewith \n",
        "    have to run only a fraction of the tree --> You clever guy! That \"fraction of the tree\" is exactly what we have stored\n",
        "    under 'result'.\n",
        "    So we simply call our predict method using the same query instance (we do not have to drop any features from the query\n",
        "    instance since for instance the feature for the root node will not be available in any of the deeper sub_trees and hence \n",
        "    we will simply not find that feature) as well as the \"reduced / sub_tree\" stored in result.\n",
        "    SUMMARIZED: If we have a query instance consisting of values for features, we take this features and check if the \n",
        "    name of the root node is equal to one of the query features.\n",
        "    If this is true, we run down the root node outgoing branch whose value equals the value of query feature == the root node.\n",
        "    If we find at the end of this branch a leaf node (not a dict object) we return this value (this is our prediction).\n",
        "    If we instead find another node (== sub_tree == dict objct) we search in our query for the feature which equals the value \n",
        "    of that node. Next we look up the value of our query feature and run down the branch whose value is equal to the \n",
        "    query[key] == query feature value. And as you can see this is exactly the recursion we talked about\n",
        "    with the important fact that for each node we run down the tree, we check only the nodes and branches which are \n",
        "    below this node and do not run the whole tree beginning at the root node \n",
        "    --> This is why we re-call the classification function with 'result'\n",
        "    \"\"\"\n",
        "    \n",
        "    \n",
        "    #1.\n",
        "    for key in list(query.keys()):\n",
        "        if key in list(tree.keys()):\n",
        "            #2.\n",
        "            try:\n",
        "                result = tree[key][query[key]] \n",
        "            except:\n",
        "                return default\n",
        "  \n",
        "            #3.\n",
        "            result = tree[key][query[key]]\n",
        "            #4.\n",
        "            if isinstance(result,dict):\n",
        "                return predict(query,result)\n",
        "            else:\n",
        "                return result"
      ],
      "execution_count": 0,
      "outputs": []
    },
    {
      "metadata": {
        "id": "gBH4xuIYq2XB",
        "colab_type": "code",
        "colab": {}
      },
      "cell_type": "code",
      "source": [
        "\"\"\"\n",
        "Check the accuracy of our prediction.\n",
        "The train_test_split function takes the dataset as parameter which should be divided into\n",
        "a training and a testing set. The test function takes two parameters, which are the testing data as well as the tree model.\n",
        "\"\"\"\n",
        "###########################################################################################################\n",
        "###########################################################################################################\n",
        "def train_test_split(dataset):\n",
        "    training_data = dataset.iloc[:80].reset_index(drop=True)#We drop the index respectively relabel the index\n",
        "    #starting form 0, because we do not want to run into errors regarding the row labels / indexes\n",
        "    testing_data = dataset.iloc[80:].reset_index(drop=True)\n",
        "    return training_data,testing_data\n",
        "training_data = train_test_split(dataset)[0]\n",
        "testing_data = train_test_split(dataset)[1] \n",
        "def test(data,tree):\n",
        "    #Create new query instances by simply removing the target feature column from the original dataset and \n",
        "    #convert it to a dictionary\n",
        "    queries = data.iloc[:,:-1].to_dict(orient = \"records\")\n",
        "    \n",
        "    #Create a empty DataFrame in whose columns the prediction of the tree are stored\n",
        "    predicted = pd.DataFrame(columns=[\"predicted\"]) \n",
        "    \n",
        "    #Calculate the prediction accuracy\n",
        "    for i in range(len(data)):\n",
        "        predicted.loc[i,\"predicted\"] = predict(queries[i],tree,1.0) \n",
        "    print('The prediction accuracy is: ',(np.sum(predicted[\"predicted\"] == data[\"class\"])/len(data))*100,'%')"
      ],
      "execution_count": 0,
      "outputs": []
    },
    {
      "metadata": {
        "id": "DLxEsl4Aq6SD",
        "colab_type": "code",
        "outputId": "dfd31824-5f94-4395-d9d4-6cd93fc08d7c",
        "colab": {
          "base_uri": "https://localhost:8080/",
          "height": 136
        }
      },
      "cell_type": "code",
      "source": [
        "\"\"\"\n",
        "Train the tree, Print the tree and predict the accuracy\n",
        "\"\"\"\n",
        "tree = ID3(training_data,training_data,training_data.columns[:-1])\n",
        "pprint(tree)\n",
        "test(testing_data,tree)"
      ],
      "execution_count": 47,
      "outputs": [
        {
          "output_type": "stream",
          "text": [
            "{'legs': {0: {'fins': {0.0: {'toothed': {0.0: 7.0, 1.0: 3.0}},\n",
            "                       1.0: {'eggs': {0.0: 1.0, 1.0: 4.0}}}},\n",
            "          2: {'hair': {0.0: 2.0, 1.0: 1.0}},\n",
            "          4: {'hair': {0.0: {'toothed': {0.0: 7.0, 1.0: 5.0}}, 1.0: 1.0}},\n",
            "          6: {'aquatic': {0.0: 6.0, 1.0: 7.0}},\n",
            "          8: 7.0}}\n",
            "The prediction accuracy is:  85.71428571428571 %\n"
          ],
          "name": "stdout"
        }
      ]
    },
    {
      "metadata": {
        "id": "rRqUQ9PKrUnW",
        "colab_type": "text"
      },
      "cell_type": "markdown",
      "source": [
        "## Using sklearn"
      ]
    },
    {
      "metadata": {
        "id": "xIKYuslnrUDb",
        "colab_type": "code",
        "outputId": "94e46b95-9854-4b1c-fd45-34066d5ee800",
        "colab": {
          "base_uri": "https://localhost:8080/",
          "height": 34
        }
      },
      "cell_type": "code",
      "source": [
        "\"\"\"\n",
        "Import the DecisionTreeClassifier model.\n",
        "\"\"\"\n",
        "#Import the DecisionTreeClassifier\n",
        "from sklearn.tree import DecisionTreeClassifier\n",
        "###########################################################################################################\n",
        "##########################################################################################################\n",
        "\"\"\"\n",
        "Import the Zoo Dataset\n",
        "\"\"\"\n",
        "#Import the dataset \n",
        "dataset = pd.read_csv('zoo.data',\n",
        "                      names=['animal_name','hair','feathers','eggs','milk',\n",
        "                             'airbone','aquatic','predator','toothed','backbone',\n",
        "                             'breathes','venomous','fins','legs','tail','domestic','catsize','class',])\n",
        "#We drop the animal names since this is not a good feature to split the data on\n",
        "dataset=dataset.drop('animal_name',axis=1)\n",
        "###########################################################################################################\n",
        "##########################################################################################################\n",
        "\"\"\"\n",
        "Split the data into a training and a testing set\n",
        "\"\"\"\n",
        "train_features = dataset.iloc[:80,:-1]\n",
        "test_features = dataset.iloc[80:,:-1]\n",
        "train_targets = dataset.iloc[:80,-1]\n",
        "test_targets = dataset.iloc[80:,-1]\n",
        "###########################################################################################################\n",
        "##########################################################################################################\n",
        "\"\"\"\n",
        "Train the model\n",
        "\"\"\"\n",
        "tree = DecisionTreeClassifier(criterion = 'entropy').fit(train_features,train_targets)\n",
        "###########################################################################################################\n",
        "##########################################################################################################\n",
        "\"\"\"\n",
        "Predict the classes of new, unseen data\n",
        "\"\"\"\n",
        "prediction = tree.predict(test_features)\n",
        "###########################################################################################################\n",
        "##########################################################################################################\n",
        "\"\"\"\n",
        "Check the accuracy\n",
        "\"\"\"\n",
        "print(\"The prediction accuracy is: \",tree.score(test_features,test_targets)*100,\"%\")"
      ],
      "execution_count": 48,
      "outputs": [
        {
          "output_type": "stream",
          "text": [
            "The prediction accuracy is:  80.95238095238095 %\n"
          ],
          "name": "stdout"
        }
      ]
    }
  ]
}