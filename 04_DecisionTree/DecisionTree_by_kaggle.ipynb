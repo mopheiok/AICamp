{
  "nbformat": 4,
  "nbformat_minor": 0,
  "metadata": {
    "colab": {
      "name": "DecisionTree_by_kaggle.ipynb",
      "version": "0.3.2",
      "provenance": [],
      "collapsed_sections": [],
      "include_colab_link": true
    },
    "kernelspec": {
      "name": "python3",
      "display_name": "Python 3"
    }
  },
  "cells": [
    {
      "cell_type": "markdown",
      "metadata": {
        "id": "view-in-github",
        "colab_type": "text"
      },
      "source": [
        "<a href=\"https://colab.research.google.com/github/mopheiok/WatermelonCamp/blob/master/04_DecisionTree/DecisionTree_by_kaggle.ipynb\" target=\"_parent\"><img src=\"https://colab.research.google.com/assets/colab-badge.svg\" alt=\"Open In Colab\"/></a>"
      ]
    },
    {
      "metadata": {
        "id": "7P27E-CBWGVd",
        "colab_type": "text"
      },
      "cell_type": "markdown",
      "source": [
        "## [Decision Tree from scratch(not sklearn) ](https://www.kaggle.com/jarvvis/decision-tree-from-scratch-not-sklearn)"
      ]
    },
    {
      "metadata": {
        "id": "6cXfB1p17GbN",
        "colab_type": "code",
        "colab": {}
      },
      "cell_type": "code",
      "source": [
        "#importing respective libraries and setting up the enviornment\n",
        "\n",
        "'''data working libraries'''\n",
        "import pandas as pd\n",
        "import numpy as np\n",
        "from sklearn.datasets import load_iris\n",
        "\n",
        "'''data visualisation libraries'''\n",
        "import matplotlib.pyplot as plt\n",
        "import seaborn as sns\n",
        "import plotly as py\n",
        "py.offline.init_notebook_mode(connected=True)\n",
        "%matplotlib inline"
      ],
      "execution_count": 0,
      "outputs": []
    },
    {
      "metadata": {
        "id": "jwwTTjxslgTm",
        "colab_type": "text"
      },
      "cell_type": "markdown",
      "source": [
        "在Google Colab中使用plotly画图时，需要预进行该方法设置。更详细信息可以参考[Colab官方绘图指南](https://colab.research.google.com/notebooks/charts.ipynb#scrollTo=fllyxKu8edm6)和[Stack Overflow关于该问题的讨论](https://stackoverflow.com/questions/47230817/plotly-notebook-mode-with-google-colaboratory)。更多plotly信息参考其[管网文档](https://plot.ly/python/offline/)"
      ]
    },
    {
      "metadata": {
        "id": "LrFDRJgH7QVT",
        "colab_type": "code",
        "colab": {}
      },
      "cell_type": "code",
      "source": [
        "def enable_plotly_in_cell():\n",
        "  import IPython\n",
        "  from plotly.offline import init_notebook_mode\n",
        "  display(IPython.core.display.HTML('''\n",
        "        <script src=\"/static/components/requirejs/require.js\"></script>\n",
        "  '''))\n",
        "  init_notebook_mode(connected=False)\n",
        "  \n",
        "  \n",
        "import IPython\n",
        "\n",
        "IPython.get_ipython().events.register('pre_run_cell', enable_plotly_in_cell)"
      ],
      "execution_count": 0,
      "outputs": []
    },
    {
      "metadata": {
        "id": "eygIYch-7T1V",
        "colab_type": "code",
        "colab": {}
      },
      "cell_type": "code",
      "source": [
        "#loading the data\n",
        "iris = load_iris()\n",
        "\n",
        "#setting up our x and y variables correspondingly\n",
        "x=iris.data\n",
        "y=iris.target\n",
        "\n",
        "#concatinating the x and y np arrays into a single np array so that can be \n",
        "#converted to a dataframe later on\n",
        "data=np.c_[x,y]\n",
        "\n",
        "\n",
        "#making a header list for corresponding column indices in DF\n",
        "cols=['sepal_length','sepal_width','petal_length','petal_width']\n",
        "header=cols+['species']\n",
        "#converting into a dataframe for visualisation purposes\n",
        "iris_df=pd.DataFrame(data=data,columns=header)"
      ],
      "execution_count": 0,
      "outputs": []
    },
    {
      "metadata": {
        "id": "JXMhq3bi7YsA",
        "colab_type": "code",
        "colab": {}
      },
      "cell_type": "code",
      "source": [
        "iris_df.head()\n",
        "#upadating values 0,1,2 in species column with real names\n",
        "iris_df.species.replace(0.0,'iris-sesota',inplace=True)\n",
        "iris_df.species.replace(1.0,'iris-versicolor',inplace=True)\n",
        "iris_df.species.replace(2.0,'iris-virginica',inplace=True)"
      ],
      "execution_count": 0,
      "outputs": []
    },
    {
      "metadata": {
        "id": "HnqwKDLr7wFd",
        "colab_type": "text"
      },
      "cell_type": "markdown",
      "source": [
        "### Analysing The Data"
      ]
    },
    {
      "metadata": {
        "id": "WjDyQng67vQU",
        "colab_type": "code",
        "colab": {}
      },
      "cell_type": "code",
      "source": [
        "'''our dataset has 150 datapoints(entries) and 4 featues'''\n",
        "iris_df.shape"
      ],
      "execution_count": 0,
      "outputs": []
    },
    {
      "metadata": {
        "id": "KfRDW07t75pw",
        "colab_type": "text"
      },
      "cell_type": "markdown",
      "source": [
        "#### Relation Between Sepal Length And Sepal Width"
      ]
    },
    {
      "metadata": {
        "id": "zoxyUzyz7zOv",
        "colab_type": "code",
        "colab": {}
      },
      "cell_type": "code",
      "source": [
        "#import graph_obj as go\n",
        "import plotly.graph_objs as go\n",
        "\n",
        "#split the datasets according to the respective species so that\n",
        "#easier while plotting scatter plots\n",
        "df1=iris_df.iloc[:50,:]\n",
        "df2=iris_df.iloc[50:100,:]\n",
        "df3=iris_df.iloc[100:150,:]\n",
        "#creating traces\n",
        "trace1 = go.Scatter(\n",
        "    #x=x-axis\n",
        "    x=df1.sepal_length,\n",
        "    #y=y-axis\n",
        "    y=df1.sepal_width,\n",
        "    #mode defines the type of plot eg-lines,markers,line+markers\n",
        "    mode='markers',\n",
        "    #name pf the plots\n",
        "    name='iris-setosa',\n",
        "    #markers->color and alpha of the respective trace\n",
        "    marker=dict(color = 'rgba(255, 128, 2, 0.8)'),\n",
        "    #the hover text\n",
        "    text=df1.species)\n",
        "trace2 = go.Scatter(\n",
        "    x=df2.sepal_length,\n",
        "    y=df2.sepal_width,\n",
        "    mode='markers',\n",
        "    name='iris-versicolor',\n",
        "    marker=dict(color = 'rgba(0, 255, 200, 0.8)'),\n",
        "    text=df2.species)\n",
        "trace3 = go.Scatter(\n",
        "    x=df3.sepal_length,\n",
        "    y=df3.sepal_width,\n",
        "    mode='markers',\n",
        "    name='iris-virginica',\n",
        "    marker=dict(color = 'rgba(255, 128, 255, 0.8)'),\n",
        "    text=df3.species)\n",
        "#a list of all the traces\n",
        "data_list=[trace1,trace2,trace3]\n",
        "#it is a dictionary containing info about title,axis etc\n",
        "layout=dict(title='Sepal length and Sepal Width of Species',\n",
        "               xaxis=dict(title='Sepal Length',ticklen=5,zeroline=False),\n",
        "               yaxis=dict(title='Sepal Width',ticklen=5,zeroline=False)\n",
        "            )\n",
        "#fig object includes data and layout\n",
        "fig=dict(data=data_list,layout=layout)\n",
        "#plotting the fig\n",
        "py.offline.iplot(fig)"
      ],
      "execution_count": 0,
      "outputs": []
    },
    {
      "metadata": {
        "id": "rY_c4d5-8Af1",
        "colab_type": "text"
      },
      "cell_type": "markdown",
      "source": [
        "#### Relation Between Petal Length And Petal Width"
      ]
    },
    {
      "metadata": {
        "id": "oVchEVF88E54",
        "colab_type": "code",
        "colab": {}
      },
      "cell_type": "code",
      "source": [
        "#import graph_obj as go\n",
        "import plotly.graph_objs as go\n",
        "\n",
        "#split the datasets according to the respective species so that\n",
        "#easier while plotting scatter plots\n",
        "df1=iris_df.iloc[:50,:]\n",
        "df2=iris_df.iloc[50:100,:]\n",
        "df3=iris_df.iloc[100:150,:]\n",
        "#creating traces\n",
        "trace1 = go.Scatter(\n",
        "    #x=x-axis\n",
        "    x=df1.petal_length,\n",
        "    #y=y-axis\n",
        "    y=df1.petal_width,\n",
        "    #mode defines the type of plot eg-lines,markers,line+markers\n",
        "    mode='markers',\n",
        "    #name pf the plots\n",
        "    name='iris-setosa',\n",
        "    #markers->color and alpha of the respective trace\n",
        "    marker=dict(color = 'rgba(255, 128, 2, 0.8)'),\n",
        "    #the hover text\n",
        "    text=df1.species)\n",
        "trace2 = go.Scatter(\n",
        "    x=df2.petal_length,\n",
        "    y=df2.petal_width,\n",
        "    mode='markers',\n",
        "    name='iris-versicolor',\n",
        "    marker=dict(color = 'rgba(0, 255, 200, 0.8)'),\n",
        "    text=df2.species)\n",
        "trace3 = go.Scatter(\n",
        "    x=df3.petal_length,\n",
        "    y=df3.petal_width,\n",
        "    mode='markers',\n",
        "    name='iris-virginica',\n",
        "    marker=dict(color = 'rgba(255, 128, 255, 0.8)'),\n",
        "    text=df3.species)\n",
        "#a list of all the traces\n",
        "data_list=[trace1,trace2,trace3]\n",
        "#it is a dictionary containing info about title,axis etc\n",
        "layout=dict(title='Petal length and Petal Width of Species',\n",
        "               xaxis=dict(title='Petal Length',ticklen=5,zeroline=False),\n",
        "               yaxis=dict(title='Petal Width',ticklen=5,zeroline=False)\n",
        "            )\n",
        "#fig object includes data and layout\n",
        "fig=dict(data=data_list,layout=layout)\n",
        "#plotting the fig\n",
        "py.offline.iplot(fig)"
      ],
      "execution_count": 0,
      "outputs": []
    },
    {
      "metadata": {
        "id": "Y4ruLeSk8JUd",
        "colab_type": "code",
        "colab": {}
      },
      "cell_type": "code",
      "source": [
        "'''the above scatter matrix clearly show that petal length is a better\n",
        "feature to split initally than sepal length or sepal widht as petal length/width are\n",
        "much distinct among the respective classes'''"
      ],
      "execution_count": 0,
      "outputs": []
    },
    {
      "metadata": {
        "id": "al2W806l8OnA",
        "colab_type": "text"
      },
      "cell_type": "markdown",
      "source": [
        "#### Correlation among features"
      ]
    },
    {
      "metadata": {
        "id": "KCOlbmi28NSM",
        "colab_type": "code",
        "colab": {}
      },
      "cell_type": "code",
      "source": [
        "#the correlation matrix heatmap for analysing the correlation among features\n",
        "corr_martix=iris_df[cols].corr()\n",
        "sns.heatmap(corr_martix,cbar=True,annot=True,fmt='.1f',cmap='coolwarm');\n",
        "#we can see petal length and petal width ad correlated very highly and same can be said for sepal lenght and sepal width"
      ],
      "execution_count": 0,
      "outputs": []
    },
    {
      "metadata": {
        "id": "zpxNjK8q8Yvq",
        "colab_type": "text"
      },
      "cell_type": "markdown",
      "source": [
        "### Writing and Visualising Our Own Decision Tress"
      ]
    },
    {
      "metadata": {
        "id": "pqkrwgw18bgt",
        "colab_type": "code",
        "colab": {}
      },
      "cell_type": "code",
      "source": [
        "'''So we will start upon with making a questions class which upon\n",
        "given proper params. will frame the question for us(which will help us while printing the tree too)'''\n",
        "\n",
        "class Question:\n",
        "    #initialise column and value variables->\n",
        "    #eg->if ques is ->is sepal_length>=1cm then\n",
        "    #sepal_length==col and 1cm=value\n",
        "    def __init__(self,column,value):\n",
        "        self.column=column\n",
        "        self.value=value\n",
        "    #it matches wheter the given data is in accordace with the value set or not\n",
        "    #returns true and false accordingly\n",
        "    def match(self,data):\n",
        "        value=data[self.column]\n",
        "        return value>=self.value\n",
        "    # This is just a helper method to print\n",
        "    # the question in a readable format.\n",
        "    def __repr__(self):\n",
        "        condition = \">=\"\n",
        "        return \"Is %s %s %s?\" % (\n",
        "            header[self.column], condition, str(self.value))"
      ],
      "execution_count": 0,
      "outputs": []
    },
    {
      "metadata": {
        "id": "IhGNT9GX8fWV",
        "colab_type": "code",
        "colab": {}
      },
      "cell_type": "code",
      "source": [
        "'demo of question class'\n",
        "#forming a question\n",
        "Question(0,5)\n",
        "## it takes column as 0 and value as 5 \n",
        "q=Question(0,5)\n",
        "#now it checks wheter the values on 0th column of the 4th datapoint is >= 5 or not\n",
        "#and returns true or false accordingly\n",
        "q.match(x[3])"
      ],
      "execution_count": 0,
      "outputs": []
    },
    {
      "metadata": {
        "id": "KYn-lnf88hqu",
        "colab_type": "code",
        "colab": {}
      },
      "cell_type": "code",
      "source": [
        "#count the unique values of labels and store them in a dictionary\n",
        "def count_values(rows):\n",
        "    #will return a dictionary with species values as key and frequency as values\n",
        "    count={}\n",
        "    #takes whole dataset in as argument\n",
        "    for row in  rows:\n",
        "        #traverse on each datapoint\n",
        "        label=row[-1]\n",
        "        #labels are in the last column\n",
        "        #if label is not even once come initialise it\n",
        "        if label not in count:\n",
        "            count[label]=0\n",
        "        #increase the count of present label by 1\n",
        "        count[label]+=1\n",
        "    return count "
      ],
      "execution_count": 0,
      "outputs": []
    },
    {
      "metadata": {
        "id": "hweT2Toh8lWF",
        "colab_type": "code",
        "colab": {}
      },
      "cell_type": "code",
      "source": [
        "'''demo count function'''\n",
        "count_values(data)"
      ],
      "execution_count": 0,
      "outputs": []
    },
    {
      "metadata": {
        "id": "z5gZW-pD8nU4",
        "colab_type": "code",
        "colab": {}
      },
      "cell_type": "code",
      "source": [
        "#spliting the data based on the respective ques.\n",
        "def partition(rows,question):\n",
        "    #intialise two seprate lists \n",
        "    true_row,false_row=[],[]\n",
        "    for row in rows:\n",
        "        #traverse on each datapoint\n",
        "        #match the given datapoint with the respective question\n",
        "        if question.match(row):\n",
        "            #if question.match returns true aka value is satisfied\n",
        "            #append the given row in true row list\n",
        "            true_row.append(row)\n",
        "        else:\n",
        "            false_row.append(row)\n",
        "    return true_row,false_row"
      ],
      "execution_count": 0,
      "outputs": []
    },
    {
      "metadata": {
        "id": "Z2EkhAvc8qpl",
        "colab_type": "code",
        "colab": {}
      },
      "cell_type": "code",
      "source": [
        "#demo of partition function\n",
        "#our question is ->\n",
        "print(Question(0,5))\n",
        "#t_r represents true_rows and f_r false_rows\n",
        "t_r,f_r=partition(data,Question(0,5))"
      ],
      "execution_count": 0,
      "outputs": []
    },
    {
      "metadata": {
        "id": "y1suOh9l8ukC",
        "colab_type": "text"
      },
      "cell_type": "markdown",
      "source": [
        "### Gini Impurity"
      ]
    },
    {
      "metadata": {
        "id": "QPzTiJdV8xBo",
        "colab_type": "code",
        "colab": {}
      },
      "cell_type": "code",
      "source": [
        "#gini impurity is defined as a measure of misclassification\n",
        "#for eg is the data is pure(1 class only)\n",
        "#then gini impurity=0\n",
        "\n",
        "def gini(rows):\n",
        "    #stores dictionary of frequency of labels\n",
        "    count=count_values(rows)\n",
        "    #initialise impurity as 1\n",
        "    impurity=1\n",
        "    for label in count:\n",
        "        #probablity of a unique label\n",
        "        probab_of_label=count[label]/float(len(rows))\n",
        "        #calculation gini impurity acc to formula\n",
        "        impurity -= probab_of_label**2\n",
        "    return impurity"
      ],
      "execution_count": 0,
      "outputs": []
    },
    {
      "metadata": {
        "id": "QBgsWm2x803F",
        "colab_type": "code",
        "colab": {}
      },
      "cell_type": "code",
      "source": [
        "'demo gini impurity'\n",
        "gini(data)\n",
        "#as 0-50,1-50,2-50 in our data currently it calulates gini impurity\n",
        "#based on that"
      ],
      "execution_count": 0,
      "outputs": []
    },
    {
      "metadata": {
        "id": "iJr6VAy385CA",
        "colab_type": "code",
        "colab": {}
      },
      "cell_type": "code",
      "source": [
        "#entropy is the sum of -p(x)log(p(x)) across all\n",
        "#the diffrent possible results\n",
        "\n",
        "#entropy is basically a measure of chaos-randomness\n",
        "def entropy(rows):\n",
        "    #initialise entropy\n",
        "    entropy=0\n",
        "    from math import log\n",
        "    #calculating log(x) in base 2\n",
        "    log2=lambda x:log(x)/log(2)\n",
        "    count=count_values(rows)\n",
        "    #storing and traversing the dictionary\n",
        "    for label in count:\n",
        "        #probablity of each unique label\n",
        "        p=count[label]/float(len(rows))\n",
        "        #calculating entropy\n",
        "        entropy-=p*log2(p)\n",
        "    return entropy"
      ],
      "execution_count": 0,
      "outputs": []
    },
    {
      "metadata": {
        "id": "F433xy-k870P",
        "colab_type": "code",
        "colab": {}
      },
      "cell_type": "code",
      "source": [
        "#info gain is basically the method in which we quantify\n",
        "#by spliting upon this feature how much information have we gained\n",
        "\n",
        "#weighted info gain\n",
        "def info_gain_gini(current,left,right):\n",
        "    #porbab of one branch\n",
        "    p =float(len(left))/len(left)+len(right)\n",
        "    #formula for info gian\n",
        "    return current-p*gini(left)-(1-p)*gini(right)\n",
        "\n",
        "  \n",
        "#weighted info gain\n",
        "def info_gain_entropy(current,left,right):\n",
        "    p =float(len(left))/len(left)+len(right)\n",
        "    return current-p*entropy(left)-(1-p)*entropy(right)"
      ],
      "execution_count": 0,
      "outputs": []
    },
    {
      "metadata": {
        "id": "U6q-Ua5a9BZl",
        "colab_type": "text"
      },
      "cell_type": "markdown",
      "source": [
        "\n",
        "### Best Split"
      ]
    },
    {
      "metadata": {
        "id": "BNwPkCJ_9EBR",
        "colab_type": "code",
        "colab": {}
      },
      "cell_type": "code",
      "source": [
        "def best_split(rows):\n",
        "    #initialise best gain and best question\n",
        "    best_gain=0\n",
        "    best_question=None\n",
        "    #calculate the current_gain\n",
        "    current=gini(rows)\n",
        "    #total number of features\n",
        "    features=len(rows[0])-1\n",
        "    for col in range(features):\n",
        "        #collects all unique classes for a feature\n",
        "        values=set([row[col] for row in rows])\n",
        "        for val in values:\n",
        "            #traverse each unique classs\n",
        "            #ask the corresponding question\n",
        "            question=Question(col,val)\n",
        "            #devide the data based on that ques\n",
        "            true_rows,false_rows=partition(rows,question)\n",
        "            if len(true_rows)==0 or len(false_rows) ==0:\n",
        "                #no use go to next iteration\n",
        "                continue\n",
        "            #calculate corresponding gain\n",
        "            gain=info_gain_gini(current,true_rows,false_rows)\n",
        "            #if gain is > than the best replace\n",
        "            if gain>=best_gain:\n",
        "                best_gain,best_question=gain,question\n",
        "            #iterate through each unique class of each feature and return the best gain and best question     \n",
        "    return best_gain,best_question"
      ],
      "execution_count": 0,
      "outputs": []
    }
  ]
}