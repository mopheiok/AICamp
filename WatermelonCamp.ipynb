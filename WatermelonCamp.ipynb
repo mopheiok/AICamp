{
  "nbformat": 4,
  "nbformat_minor": 0,
  "metadata": {
    "colab": {
      "name": "WatermelonCamp.ipynb",
      "version": "0.3.2",
      "provenance": [],
      "include_colab_link": true
    },
    "kernelspec": {
      "name": "python3",
      "display_name": "Python 3"
    }
  },
  "cells": [
    {
      "cell_type": "markdown",
      "metadata": {
        "id": "view-in-github",
        "colab_type": "text"
      },
      "source": [
        "<a href=\"https://colab.research.google.com/github/mopheiok/WatermelonCamp/blob/master/WatermelonCamp.ipynb\" target=\"_parent\"><img src=\"https://colab.research.google.com/assets/colab-badge.svg\" alt=\"Open In Colab\"/></a>"
      ]
    },
    {
      "metadata": {
        "id": "KLccyG5x2-FG",
        "colab_type": "code",
        "colab": {
          "base_uri": "https://localhost:8080/",
          "height": 34
        },
        "outputId": "e9f4a735-c910-4393-963e-aea7e09efab2"
      },
      "cell_type": "code",
      "source": [
        "# -*- coding: utf-8 -*-  \n",
        "\n",
        "import time\n",
        "\n",
        "import pandas as pd\n",
        "from sklearn.feature_extraction.text import CountVectorizer\n",
        "from sklearn.linear_model import LogisticRegression\n",
        "\n",
        "print(time.strftime('%Y-%m-%d %H:%M:%S', time.localtime(time.time())))"
      ],
      "execution_count": 3,
      "outputs": [
        {
          "output_type": "stream",
          "text": [
            "2019-03-20 02:36:35\n"
          ],
          "name": "stdout"
        }
      ]
    },
    {
      "metadata": {
        "id": "tYjgINXh9R_P",
        "colab_type": "code",
        "colab": {}
      },
      "cell_type": "code",
      "source": [
        "df_train = pd.read_csv('./train_set.csv')\n",
        "df_test = pd.read_csv('./test_set.csv')\n",
        "df_train.drop(columns=['article', 'id'], inplace=True)\n",
        "df_test.drop(columns=['article'], inplace=True)\n",
        "\n",
        "vectorizer = CountVectorizer(ngram_range=(1, 2), min_df=3, max_df=0.9, max_features=100000)\n",
        "vectorizer.fit(df_train['word_seg'])\n",
        "x_train = vectorizer.transform(df_train['word_seg'])\n",
        "x_test = vectorizer.transform(df_test['word_seg'])\n",
        "y_train = df_train['class'] - 1\n",
        "\n",
        "print(\"***********start training**************\")\n",
        "time.strftime('%Y-%m-%d %H:%M:%S', time.localtime(time.time()))\n",
        "\n",
        "lg = LogisticRegression(C=4, dual=True)\n",
        "lg.fit(x_train, y_train)\n",
        "\n",
        "time.strftime('%Y-%m-%d %H:%M:%S', time.localtime(time.time()))\n",
        "\n",
        "y_test = lg.predict(x_test)\n",
        "\n",
        "df_test['class'] = y_test.tolist()\n",
        "df_test['class'] = df_test['class'] + 1\n",
        "df_result = df_test.loc[:, ['id', 'class']]\n",
        "df_result.to_csv('./result.csv', index=False)\n",
        "time.strftime('%Y-%m-%d %H:%M:%S', time.localtime(time.time()))"
      ],
      "execution_count": 0,
      "outputs": []
    }
  ]
}